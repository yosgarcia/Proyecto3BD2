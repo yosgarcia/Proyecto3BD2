{
 "cells": [
  {
   "cell_type": "markdown",
   "id": "bab6710e-39ee-40f4-ae38-91d299e3a966",
   "metadata": {},
   "source": [
    "PROYECTO 3\n",
    "\n",
    "Integrantes:\n",
    "    - Yosward García Tellez\n",
    "    - Leonardo Mora Chacón\n",
    "    - Yurgen Cambronero Mora"
   ]
  },
  {
   "cell_type": "markdown",
   "metadata": {},
   "source": []
  },
  {
   "cell_type": "code",
   "execution_count": 79,
   "id": "cd1a9aaf-014d-4dcc-b5a0-eb570ec27b5b",
   "metadata": {},
   "outputs": [],
   "source": [
    "# Bilbiotecas a usar\n",
    "import pandas as pd\n",
    "import numpy as np\n",
    "import findspark\n",
    "from pyspark.sql import SparkSession\n",
    "from pyspark.sql.functions import trim, lower, regexp_replace\n",
    "from unidecode import unidecode"
   ]
  },
  {
   "cell_type": "code",
   "execution_count": 80,
   "metadata": {},
   "outputs": [],
   "source": [
    "def create_spark_session():\n",
    "    \"\"\"\n",
    "    This function builds a Spark Session\n",
    "    return the main entry of a Spark DataFrame\n",
    "    \"\"\"\n",
    "    spark = SparkSession \\\n",
    "      .builder \\\n",
    "      .appName(\"Proyecto3\") \\\n",
    "      .config(\"spark.driver.extraClassPath\", \"postgresql-42.6.0.jar\") \\\n",
    "      .config(\"spark.executor.extraClassPath\", \"postgresql-42.6.0.jar\") \\\n",
    "      .getOrCreate()\n",
    "    return spark\n",
    "\n",
    "spark = create_spark_session()"
   ]
  },
  {
   "cell_type": "code",
   "execution_count": 81,
   "metadata": {},
   "outputs": [
    {
     "name": "stdout",
     "output_type": "stream",
     "text": [
      "+--------------------+--------------------+----------+-------------------+--------+--------------------+-------------+-------------+--------------+----------+-------------------+--------------+\n",
      "|              Delito|           SubDelito|     Fecha|               Hora| Victima|          SubVictima|         Edad|       Genero|  Nacionalidad| Provincia|             Canton|      Distrito|\n",
      "+--------------------+--------------------+----------+-------------------+--------+--------------------+-------------+-------------+--------------+----------+-------------------+--------------+\n",
      "|DELITOS CONTRA EL...|VIOLACION DE DOMI...| 13/3/2011|18:00:00 - 20:59:59|VIVIENDA|           NO APLICA|Mayor de edad|Mayor de edad|    COSTA RICA|  ALAJUELA|          SAN RAMON|      SAN JUAN|\n",
      "|DELITOS CONTRA EL...|VIOLACION DE DOMI...|  7/3/2011|00:00:00 - 02:59:59|VIVIENDA|           NO APLICA|Mayor de edad|Mayor de edad|    COSTA RICA|PUNTARENAS|           GARABITO|          JACO|\n",
      "|DELITOS CONTRA EL...|VIOLACION DE DOMI...| 28/5/2011|00:00:00 - 02:59:59| PERSONA|       MENOR DE EDAD|Menor de edad|Menor de edad|    COSTA RICA|  SAN JOSE|      PEREZ ZELEDON| DANIEL FLORES|\n",
      "|DELITOS CONTRA EL...|VIOLACION DE DOMI...|  1/6/2011|21:00:00 - 23:59:59|VIVIENDA|           NO APLICA|Mayor de edad|Mayor de edad|    COSTA RICA|PUNTARENAS|            ESPARZA|ESPIRITU SANTO|\n",
      "|DELITOS CONTRA EL...|VIOLACION DE DOMI...| 15/5/2011|21:00:00 - 23:59:59|VIVIENDA|           NO APLICA|Mayor de edad|Mayor de edad|    COSTA RICA|PUNTARENAS|             QUEPOS|        QUEPOS|\n",
      "|DELITOS CONTRA EL...|VIOLACION DE DOMI...| 23/4/2011|06:00:00 - 08:59:59|VIVIENDA|           NO APLICA|Mayor de edad|Mayor de edad|       BELGICA|PUNTARENAS|         PUNTARENAS|        COBANO|\n",
      "|DELITOS CONTRA EL...|VIOLACION DE DOMI...| 12/9/2011|12:00:00 - 14:59:59|VIVIENDA|           NO APLICA|Mayor de edad|Mayor de edad|     NICARAGUA|  SAN JOSE|         ALAJUELITA|    CONCEPCION|\n",
      "|DELITOS CONTRA EL...|VIOLACION DE DOMI...| 22/8/2011|18:00:00 - 20:59:59|VIVIENDA|           NO APLICA|Mayor de edad|Mayor de edad|    COSTA RICA|  ALAJUELA|            OROTINA|       COYOLAR|\n",
      "|DELITOS CONTRA EL...|VIOLACION DE SECR...|  9/2/2011|00:00:00 - 02:59:59| PERSONA|OTRO O INDETERMINADO| Adulto Mayor| Adulto Mayor|    COSTA RICA|  SAN JOSE|           SAN JOSE|   DESCONOCIDO|\n",
      "|DELITOS CONTRA EL...|VIOLACION DE SECR...| 23/2/2011|00:00:00 - 02:59:59| PERSONA|              PEATON|Mayor de edad|Mayor de edad|    COSTA RICA|   CARTAGO|            CARTAGO|    CORRALILLO|\n",
      "|DELITOS CONTRA EL...|VIOLACION DE SECR...| 28/3/2011|00:00:00 - 02:59:59| PERSONA|OTRO O INDETERMINADO|Mayor de edad|Mayor de edad|    COSTA RICA|   HEREDIA|      SANTA BARBARA| SANTA BARBARA|\n",
      "|DELITOS CONTRA EL...|VIOLACION DE SECR...|  6/5/2011|00:00:00 - 02:59:59| PERSONA|       MENOR DE EDAD|Menor de edad|Menor de edad|    COSTA RICA|  SAN JOSE|           SAN JOSE|   DESCONOCIDO|\n",
      "|DELITOS CONTRA EL...|VIOLACION DE DOMI...|  4/4/2011|18:00:00 - 20:59:59|VIVIENDA|           NO APLICA|Mayor de edad|Mayor de edad|    COSTA RICA|  SAN JOSE|      PEREZ ZELEDON|         CAJON|\n",
      "|DELITOS CONTRA EL...|VIOLACION DE DOMI...| 24/2/2011|12:00:00 - 14:59:59|VIVIENDA|           NO APLICA|Mayor de edad|Mayor de edad|    COSTA RICA|PUNTARENAS|         PUNTARENAS|      BARRANCA|\n",
      "|DELITOS CONTRA EL...|VIOLACION DE DOMI...| 15/5/2011|00:00:00 - 02:59:59|VIVIENDA|           NO APLICA|Mayor de edad|Mayor de edad|    COSTA RICA|     LIMON|            GUACIMO|       GUACIMO|\n",
      "|DELITOS CONTRA EL...|VIOLACION DE DOMI...| 13/5/2011|21:00:00 - 23:59:59|VIVIENDA|           NO APLICA|Mayor de edad|Mayor de edad|    COSTA RICA|     LIMON|              LIMON|         LIMON|\n",
      "|DELITOS CONTRA EL...|VIOLACION DE DOMI...| 14/6/2011|00:00:00 - 02:59:59|VIVIENDA|           NO APLICA|Mayor de edad|Mayor de edad|    COSTA RICA|  SAN JOSE|           SAN JOSE|      CATEDRAL|\n",
      "|DELITOS CONTRA EL...|VIOLACION DE DOMI...| 15/7/2011|00:00:00 - 02:59:59|VIVIENDA|           NO APLICA|Mayor de edad|Mayor de edad|    COSTA RICA|  ALAJUELA|            GUATUSO|        KATIRA|\n",
      "|DELITOS CONTRA EL...|VIOLACION DE DOMI...|26/10/2011|00:00:00 - 02:59:59|VIVIENDA|           NO APLICA|Menor de edad|Menor de edad|ESTADOS UNIDOS|PUNTARENAS|           GARABITO|          JACO|\n",
      "|DELITOS CONTRA EL...|VIOLACION DE SECR...| 14/1/2011|00:00:00 - 02:59:59| PERSONA|OTRO O INDETERMINADO|Mayor de edad|Mayor de edad|    COSTA RICA|  SAN JOSE|VASQUEZ DE CORONADO|    SAN ISIDRO|\n",
      "+--------------------+--------------------+----------+-------------------+--------+--------------------+-------------+-------------+--------------+----------+-------------------+--------------+\n",
      "only showing top 20 rows\n",
      "\n"
     ]
    }
   ],
   "source": [
    "#Separar por columnas el csv y no por comas\n",
    "df_oij = spark.read.csv(\"Estadisticas.csv\", sep=';', header=True, inferSchema=True)\n",
    "df_oij.show()"
   ]
  },
  {
   "cell_type": "code",
   "execution_count": 82,
   "metadata": {},
   "outputs": [
    {
     "name": "stdout",
     "output_type": "stream",
     "text": [
      "+----------------------------+--------------------------+--------------------------+------------------+-------------------------+-----------------------------------------------+---------------------------------+-------------------+------------------+-----------------+\n",
      "|Provincia, canton y distrito|Población de 15 años y más|Tasa neta de participación| Tasa_de_ocupacion|Tasa de desempleo abierto|Porcentaje de población económicamente inactiva|Relación de dependencia económica|    Sector Primario| Sector Secundario| Sector Terciario|\n",
      "+----------------------------+--------------------------+--------------------------+------------------+-------------------------+-----------------------------------------------+---------------------------------+-------------------+------------------+-----------------+\n",
      "|                        NULL|                      NULL|                      NULL|              NULL|                     NULL|                                           NULL|                             NULL|               NULL|              NULL|             NULL|\n",
      "|                    San José|                 1087315.0|         56.02369138658071|54.076325627807954|       3.4759683101481724|                               43.9763086134193|               1.3052331594309485| 5.4697438688390765| 17.29412565053233|77.23613048062859|\n",
      "|                        NULL|                      NULL|                      NULL|              NULL|                     NULL|                                           NULL|                             NULL|               NULL|              NULL|             NULL|\n",
      "|                    San José|                  225856.0|         56.70825658826863| 54.47718900538396|       3.9342905550480562|                              43.29174341173137|               1.2490337994519007|  0.653446033810143|18.906046814044213|80.44050715214564|\n",
      "|                        NULL|                      NULL|                      NULL|              NULL|                     NULL|                                           NULL|                             NULL|               NULL|              NULL|             NULL|\n",
      "|           Carmen           |                    2431.0|         56.31427396133278|54.792266556972436|       2.7027027027027026|                              43.68572603866722|               0.9737034331628927| 1.5765765765765765| 8.708708708708707|89.71471471471472|\n",
      "|             Merced         |                    9655.0|         59.24391506991197|  56.9963749352667|       3.7937062937062933|                             40.756084930088036|               1.1428321678321678| 0.8359076867163365| 18.26276576412866|  80.901326549155|\n",
      "|          Hospital          |                   15096.0|         56.42554319024907|53.928192898781134|        4.425921577835172|                              43.57445680975093|               1.2622681380605776| 0.4667731236948778|18.621790934774598|80.91143594153053|\n",
      "|          Catedral          |                   10742.0|         59.01135728914541| 57.02848631539751|       3.3601514434453383|                              40.98864271085459|                 1.04070042593469|0.45706823375775385|14.593535749265426|84.94939601697682|\n",
      "|            Zapote          |                   15545.0|         55.67706658089418|54.049533612093924|         2.92316580011554|                              44.32293341910582|               1.1581744656268054| 0.6069983337300643|13.746726969769101|85.64627469650084|\n",
      "|        San Francisco de ...|                   16895.0|        57.425273749630065|56.081680970701385|       2.3397237682951966|                             42.574726250369935|                1.082972582972583| 0.5171503957783642|13.013192612137203|86.46965699208444|\n",
      "|           Uruca            |                   22717.0|        59.030681868204425| 56.64920544085928|        4.034302759134974|                             40.969318131795575|               1.3659955257270693| 0.9946382780324812| 29.06208718626156|69.94327453570595|\n",
      "|          Mata Redonda      |                    7077.0|         54.02006499929348| 52.16899816306344|       3.4266283023803292|                              45.97993500070651|               1.1744703112738686| 1.1375947995666305|11.728060671722645|87.13434452871073|\n",
      "|           Pavas            |                   54510.0|        56.319941295175205| 53.93505778756192|        4.234527687296417|                               43.6800587048248|               1.3252117263843648| 0.7346938775510203|23.761904761904763|75.50340136054422|\n",
      "|          Hatillo           |                   39555.0|         54.72633042598913|52.218430034129696|        4.582621148427034|                             45.273669574010874|                1.333394927703608| 0.4502541757443719|16.383442265795207|83.16630355846041|\n",
      "|          San Sebastián     |                   31633.0|         57.52220782094648|55.148104827237376|         4.12728072103759|                              42.47779217905352|               1.2018575511101341|  0.527371739753511|16.050444253367726|83.42218400687877|\n",
      "|                        NULL|                      NULL|                      NULL|              NULL|                     NULL|                                           NULL|                             NULL|               NULL|              NULL|             NULL|\n",
      "|                      Escazú|                   44797.0|        60.709422505971375| 58.86554903230127|       3.0372113546109722|                              39.29057749402862|               1.0778423297543755| 2.5483503981797497| 16.71596511186955| 80.7356844899507|\n",
      "|                        NULL|                      NULL|                      NULL|              NULL|                     NULL|                                           NULL|                             NULL|               NULL|              NULL|             NULL|\n",
      "|          Escazú            |                    9580.0|         58.70563674321503| 56.69102296450939|       3.4317211948790893|                              41.29436325678497|               1.1308677098150783| 1.6203277481126863| 15.70613146750138|82.67354078438593|\n",
      "+----------------------------+--------------------------+--------------------------+------------------+-------------------------+-----------------------------------------------+---------------------------------+-------------------+------------------+-----------------+\n",
      "only showing top 20 rows\n",
      "\n"
     ]
    }
   ],
   "source": [
    "column_names = ['Provincia, canton y distrito', 'Población de 15 años y más', 'Tasa neta de participación',\n",
    "                          'Tasa_de_ocupacion', 'Tasa de desempleo abierto', 'Porcentaje de población económicamente inactiva',\n",
    "                          'Relación de dependencia económica', 'Sector Primario', 'Sector Secundario', 'Sector Terciario']\n",
    "\n",
    "file_inec_excel = pd.read_excel(io=\"reempleocenso2011-22.xls_2.xls\", skiprows=9, header=None, names=column_names, usecols='B:K')\n",
    "\n",
    "csv_inec = file_inec_excel.to_csv('reempleocenso2011-22.csv', index=False, encoding=\"UTF-8\")\n",
    "\n",
    "df_inec = spark.read.csv(\"reempleocenso2011-22.csv\",header=True, inferSchema=True)\n",
    "df_inec.show()"
   ]
  },
  {
   "cell_type": "code",
   "execution_count": 83,
   "metadata": {},
   "outputs": [],
   "source": [
    "#Eliminar registros donde todas las columnas estan en NULL\n",
    "def remove_null_rows(df):\n",
    "    df = df.na.drop(\"all\")\n",
    "    return df"
   ]
  },
  {
   "cell_type": "code",
   "execution_count": 84,
   "metadata": {},
   "outputs": [
    {
     "name": "stdout",
     "output_type": "stream",
     "text": [
      "+----------------------------+--------------------------+--------------------------+------------------+-------------------------+-----------------------------------------------+---------------------------------+-------------------+------------------+-----------------+\n",
      "|Provincia, canton y distrito|Población de 15 años y más|Tasa neta de participación| Tasa_de_ocupacion|Tasa de desempleo abierto|Porcentaje de población económicamente inactiva|Relación de dependencia económica|    Sector Primario| Sector Secundario| Sector Terciario|\n",
      "+----------------------------+--------------------------+--------------------------+------------------+-------------------------+-----------------------------------------------+---------------------------------+-------------------+------------------+-----------------+\n",
      "|                    San José|                 1087315.0|         56.02369138658071|54.076325627807954|       3.4759683101481724|                               43.9763086134193|               1.3052331594309485| 5.4697438688390765| 17.29412565053233|77.23613048062859|\n",
      "|                    San José|                  225856.0|         56.70825658826863| 54.47718900538396|       3.9342905550480562|                              43.29174341173137|               1.2490337994519007|  0.653446033810143|18.906046814044213|80.44050715214564|\n",
      "|           Carmen           |                    2431.0|         56.31427396133278|54.792266556972436|       2.7027027027027026|                              43.68572603866722|               0.9737034331628927| 1.5765765765765765| 8.708708708708707|89.71471471471472|\n",
      "|             Merced         |                    9655.0|         59.24391506991197|  56.9963749352667|       3.7937062937062933|                             40.756084930088036|               1.1428321678321678| 0.8359076867163365| 18.26276576412866|  80.901326549155|\n",
      "|          Hospital          |                   15096.0|         56.42554319024907|53.928192898781134|        4.425921577835172|                              43.57445680975093|               1.2622681380605776| 0.4667731236948778|18.621790934774598|80.91143594153053|\n",
      "|          Catedral          |                   10742.0|         59.01135728914541| 57.02848631539751|       3.3601514434453383|                              40.98864271085459|                 1.04070042593469|0.45706823375775385|14.593535749265426|84.94939601697682|\n",
      "|            Zapote          |                   15545.0|         55.67706658089418|54.049533612093924|         2.92316580011554|                              44.32293341910582|               1.1581744656268054| 0.6069983337300643|13.746726969769101|85.64627469650084|\n",
      "|        San Francisco de ...|                   16895.0|        57.425273749630065|56.081680970701385|       2.3397237682951966|                             42.574726250369935|                1.082972582972583| 0.5171503957783642|13.013192612137203|86.46965699208444|\n",
      "|           Uruca            |                   22717.0|        59.030681868204425| 56.64920544085928|        4.034302759134974|                             40.969318131795575|               1.3659955257270693| 0.9946382780324812| 29.06208718626156|69.94327453570595|\n",
      "|          Mata Redonda      |                    7077.0|         54.02006499929348| 52.16899816306344|       3.4266283023803292|                              45.97993500070651|               1.1744703112738686| 1.1375947995666305|11.728060671722645|87.13434452871073|\n",
      "|           Pavas            |                   54510.0|        56.319941295175205| 53.93505778756192|        4.234527687296417|                               43.6800587048248|               1.3252117263843648| 0.7346938775510203|23.761904761904763|75.50340136054422|\n",
      "|          Hatillo           |                   39555.0|         54.72633042598913|52.218430034129696|        4.582621148427034|                             45.273669574010874|                1.333394927703608| 0.4502541757443719|16.383442265795207|83.16630355846041|\n",
      "|          San Sebastián     |                   31633.0|         57.52220782094648|55.148104827237376|         4.12728072103759|                              42.47779217905352|               1.2018575511101341|  0.527371739753511|16.050444253367726|83.42218400687877|\n",
      "|                      Escazú|                   44797.0|        60.709422505971375| 58.86554903230127|       3.0372113546109722|                              39.29057749402862|               1.0778423297543755| 2.5483503981797497| 16.71596511186955| 80.7356844899507|\n",
      "|          Escazú            |                    9580.0|         58.70563674321503| 56.69102296450939|       3.4317211948790893|                              41.29436325678497|               1.1308677098150783| 1.6203277481126863| 15.70613146750138|82.67354078438593|\n",
      "|          San Antonio       |                   17544.0|          60.5734154126767| 58.74943000455997|       3.0111978921614755|                               39.4265845873233|                 1.12232991436906| 3.7935383719802074| 18.57960609294654|77.62685553507325|\n",
      "|          San Rafael        |                   17673.0|        61.930628642562105|60.159565438804954|       2.8597533120146186|                             38.069371357437895|               1.0074006395614437| 1.8152746425884123|15.425131677953349|82.75959367945825|\n",
      "|                Desamparados|                  159292.0|         56.98905155312257| 54.70645104587801|        4.005331629561903|                             43.010948446877435|               1.2958062988136023|  2.214750467622184|19.570131852242863|78.21511768013495|\n",
      "|          Desamparados      |                   26951.0|         59.26681755779006|56.409780713146084|        4.820634821260877|                              40.73318244220994|               1.1202028422963752| 0.5327895810037493|14.957574162994147|84.50963625600211|\n",
      "|          San Miguel        |                   24071.0|         57.13098749532632| 54.91255037181671|        3.883071553228621|                              42.86901250467368|               1.3127545084351366|  1.626569829021032|20.184596761991223|78.18883340898775|\n",
      "+----------------------------+--------------------------+--------------------------+------------------+-------------------------+-----------------------------------------------+---------------------------------+-------------------+------------------+-----------------+\n",
      "only showing top 20 rows\n",
      "\n"
     ]
    }
   ],
   "source": [
    "df_inec = remove_null_rows(df_inec)\n",
    "df_inec.show()"
   ]
  },
  {
   "cell_type": "code",
   "execution_count": 85,
   "metadata": {},
   "outputs": [
    {
     "name": "stdout",
     "output_type": "stream",
     "text": [
      "+--------------------+--------------------+----------+-------------------+--------+--------------------+-------------+-------------+--------------+----------+-------------------+--------------+\n",
      "|              Delito|           SubDelito|     Fecha|               Hora| Victima|          SubVictima|         Edad|       Genero|  Nacionalidad| Provincia|             Canton|      Distrito|\n",
      "+--------------------+--------------------+----------+-------------------+--------+--------------------+-------------+-------------+--------------+----------+-------------------+--------------+\n",
      "|DELITOS CONTRA EL...|VIOLACION DE DOMI...| 13/3/2011|18:00:00 - 20:59:59|VIVIENDA|           NO APLICA|Mayor de edad|Mayor de edad|    COSTA RICA|  ALAJUELA|          SAN RAMON|      SAN JUAN|\n",
      "|DELITOS CONTRA EL...|VIOLACION DE DOMI...|  7/3/2011|00:00:00 - 02:59:59|VIVIENDA|           NO APLICA|Mayor de edad|Mayor de edad|    COSTA RICA|PUNTARENAS|           GARABITO|          JACO|\n",
      "|DELITOS CONTRA EL...|VIOLACION DE DOMI...| 28/5/2011|00:00:00 - 02:59:59| PERSONA|       MENOR DE EDAD|Menor de edad|Menor de edad|    COSTA RICA|  SAN JOSE|      PEREZ ZELEDON| DANIEL FLORES|\n",
      "|DELITOS CONTRA EL...|VIOLACION DE DOMI...|  1/6/2011|21:00:00 - 23:59:59|VIVIENDA|           NO APLICA|Mayor de edad|Mayor de edad|    COSTA RICA|PUNTARENAS|            ESPARZA|ESPIRITU SANTO|\n",
      "|DELITOS CONTRA EL...|VIOLACION DE DOMI...| 15/5/2011|21:00:00 - 23:59:59|VIVIENDA|           NO APLICA|Mayor de edad|Mayor de edad|    COSTA RICA|PUNTARENAS|             QUEPOS|        QUEPOS|\n",
      "|DELITOS CONTRA EL...|VIOLACION DE DOMI...| 23/4/2011|06:00:00 - 08:59:59|VIVIENDA|           NO APLICA|Mayor de edad|Mayor de edad|       BELGICA|PUNTARENAS|         PUNTARENAS|        COBANO|\n",
      "|DELITOS CONTRA EL...|VIOLACION DE DOMI...| 12/9/2011|12:00:00 - 14:59:59|VIVIENDA|           NO APLICA|Mayor de edad|Mayor de edad|     NICARAGUA|  SAN JOSE|         ALAJUELITA|    CONCEPCION|\n",
      "|DELITOS CONTRA EL...|VIOLACION DE DOMI...| 22/8/2011|18:00:00 - 20:59:59|VIVIENDA|           NO APLICA|Mayor de edad|Mayor de edad|    COSTA RICA|  ALAJUELA|            OROTINA|       COYOLAR|\n",
      "|DELITOS CONTRA EL...|VIOLACION DE SECR...|  9/2/2011|00:00:00 - 02:59:59| PERSONA|OTRO O INDETERMINADO| Adulto Mayor| Adulto Mayor|    COSTA RICA|  SAN JOSE|           SAN JOSE|   DESCONOCIDO|\n",
      "|DELITOS CONTRA EL...|VIOLACION DE SECR...| 23/2/2011|00:00:00 - 02:59:59| PERSONA|              PEATON|Mayor de edad|Mayor de edad|    COSTA RICA|   CARTAGO|            CARTAGO|    CORRALILLO|\n",
      "|DELITOS CONTRA EL...|VIOLACION DE SECR...| 28/3/2011|00:00:00 - 02:59:59| PERSONA|OTRO O INDETERMINADO|Mayor de edad|Mayor de edad|    COSTA RICA|   HEREDIA|      SANTA BARBARA| SANTA BARBARA|\n",
      "|DELITOS CONTRA EL...|VIOLACION DE SECR...|  6/5/2011|00:00:00 - 02:59:59| PERSONA|       MENOR DE EDAD|Menor de edad|Menor de edad|    COSTA RICA|  SAN JOSE|           SAN JOSE|   DESCONOCIDO|\n",
      "|DELITOS CONTRA EL...|VIOLACION DE DOMI...|  4/4/2011|18:00:00 - 20:59:59|VIVIENDA|           NO APLICA|Mayor de edad|Mayor de edad|    COSTA RICA|  SAN JOSE|      PEREZ ZELEDON|         CAJON|\n",
      "|DELITOS CONTRA EL...|VIOLACION DE DOMI...| 24/2/2011|12:00:00 - 14:59:59|VIVIENDA|           NO APLICA|Mayor de edad|Mayor de edad|    COSTA RICA|PUNTARENAS|         PUNTARENAS|      BARRANCA|\n",
      "|DELITOS CONTRA EL...|VIOLACION DE DOMI...| 15/5/2011|00:00:00 - 02:59:59|VIVIENDA|           NO APLICA|Mayor de edad|Mayor de edad|    COSTA RICA|     LIMON|            GUACIMO|       GUACIMO|\n",
      "|DELITOS CONTRA EL...|VIOLACION DE DOMI...| 13/5/2011|21:00:00 - 23:59:59|VIVIENDA|           NO APLICA|Mayor de edad|Mayor de edad|    COSTA RICA|     LIMON|              LIMON|         LIMON|\n",
      "|DELITOS CONTRA EL...|VIOLACION DE DOMI...| 14/6/2011|00:00:00 - 02:59:59|VIVIENDA|           NO APLICA|Mayor de edad|Mayor de edad|    COSTA RICA|  SAN JOSE|           SAN JOSE|      CATEDRAL|\n",
      "|DELITOS CONTRA EL...|VIOLACION DE DOMI...| 15/7/2011|00:00:00 - 02:59:59|VIVIENDA|           NO APLICA|Mayor de edad|Mayor de edad|    COSTA RICA|  ALAJUELA|            GUATUSO|        KATIRA|\n",
      "|DELITOS CONTRA EL...|VIOLACION DE DOMI...|26/10/2011|00:00:00 - 02:59:59|VIVIENDA|           NO APLICA|Menor de edad|Menor de edad|ESTADOS UNIDOS|PUNTARENAS|           GARABITO|          JACO|\n",
      "|DELITOS CONTRA EL...|VIOLACION DE SECR...| 14/1/2011|00:00:00 - 02:59:59| PERSONA|OTRO O INDETERMINADO|Mayor de edad|Mayor de edad|    COSTA RICA|  SAN JOSE|VASQUEZ DE CORONADO|    SAN ISIDRO|\n",
      "+--------------------+--------------------+----------+-------------------+--------+--------------------+-------------+-------------+--------------+----------+-------------------+--------------+\n",
      "only showing top 20 rows\n",
      "\n"
     ]
    }
   ],
   "source": [
    "df_oij = remove_null_rows(df_oij)\n",
    "df_oij.show()"
   ]
  },
  {
   "cell_type": "code",
   "execution_count": 86,
   "metadata": {},
   "outputs": [],
   "source": [
    "#Funcion para eliminar espacios en blancos en una columna especifica\n",
    "def remove_blank_spaces(df, column):\n",
    "    df = df.withColumn(column, trim(df[column]))\n",
    "    return df"
   ]
  },
  {
   "cell_type": "code",
   "execution_count": 87,
   "metadata": {},
   "outputs": [
    {
     "name": "stdout",
     "output_type": "stream",
     "text": [
      "+--------------------+--------------------+----------+-------------------+--------+--------------------+-------------+-------------+--------------+----------+-------------------+--------------+\n",
      "|              Delito|           SubDelito|     Fecha|               Hora| Victima|          SubVictima|         Edad|       Genero|  Nacionalidad| Provincia|             Canton|      Distrito|\n",
      "+--------------------+--------------------+----------+-------------------+--------+--------------------+-------------+-------------+--------------+----------+-------------------+--------------+\n",
      "|DELITOS CONTRA EL...|VIOLACION DE DOMI...| 13/3/2011|18:00:00 - 20:59:59|VIVIENDA|           NO APLICA|Mayor de edad|Mayor de edad|    COSTA RICA|  ALAJUELA|          SAN RAMON|      SAN JUAN|\n",
      "|DELITOS CONTRA EL...|VIOLACION DE DOMI...|  7/3/2011|00:00:00 - 02:59:59|VIVIENDA|           NO APLICA|Mayor de edad|Mayor de edad|    COSTA RICA|PUNTARENAS|           GARABITO|          JACO|\n",
      "|DELITOS CONTRA EL...|VIOLACION DE DOMI...| 28/5/2011|00:00:00 - 02:59:59| PERSONA|       MENOR DE EDAD|Menor de edad|Menor de edad|    COSTA RICA|  SAN JOSE|      PEREZ ZELEDON| DANIEL FLORES|\n",
      "|DELITOS CONTRA EL...|VIOLACION DE DOMI...|  1/6/2011|21:00:00 - 23:59:59|VIVIENDA|           NO APLICA|Mayor de edad|Mayor de edad|    COSTA RICA|PUNTARENAS|            ESPARZA|ESPIRITU SANTO|\n",
      "|DELITOS CONTRA EL...|VIOLACION DE DOMI...| 15/5/2011|21:00:00 - 23:59:59|VIVIENDA|           NO APLICA|Mayor de edad|Mayor de edad|    COSTA RICA|PUNTARENAS|             QUEPOS|        QUEPOS|\n",
      "|DELITOS CONTRA EL...|VIOLACION DE DOMI...| 23/4/2011|06:00:00 - 08:59:59|VIVIENDA|           NO APLICA|Mayor de edad|Mayor de edad|       BELGICA|PUNTARENAS|         PUNTARENAS|        COBANO|\n",
      "|DELITOS CONTRA EL...|VIOLACION DE DOMI...| 12/9/2011|12:00:00 - 14:59:59|VIVIENDA|           NO APLICA|Mayor de edad|Mayor de edad|     NICARAGUA|  SAN JOSE|         ALAJUELITA|    CONCEPCION|\n",
      "|DELITOS CONTRA EL...|VIOLACION DE DOMI...| 22/8/2011|18:00:00 - 20:59:59|VIVIENDA|           NO APLICA|Mayor de edad|Mayor de edad|    COSTA RICA|  ALAJUELA|            OROTINA|       COYOLAR|\n",
      "|DELITOS CONTRA EL...|VIOLACION DE SECR...|  9/2/2011|00:00:00 - 02:59:59| PERSONA|OTRO O INDETERMINADO| Adulto Mayor| Adulto Mayor|    COSTA RICA|  SAN JOSE|           SAN JOSE|   DESCONOCIDO|\n",
      "|DELITOS CONTRA EL...|VIOLACION DE SECR...| 23/2/2011|00:00:00 - 02:59:59| PERSONA|              PEATON|Mayor de edad|Mayor de edad|    COSTA RICA|   CARTAGO|            CARTAGO|    CORRALILLO|\n",
      "|DELITOS CONTRA EL...|VIOLACION DE SECR...| 28/3/2011|00:00:00 - 02:59:59| PERSONA|OTRO O INDETERMINADO|Mayor de edad|Mayor de edad|    COSTA RICA|   HEREDIA|      SANTA BARBARA| SANTA BARBARA|\n",
      "|DELITOS CONTRA EL...|VIOLACION DE SECR...|  6/5/2011|00:00:00 - 02:59:59| PERSONA|       MENOR DE EDAD|Menor de edad|Menor de edad|    COSTA RICA|  SAN JOSE|           SAN JOSE|   DESCONOCIDO|\n",
      "|DELITOS CONTRA EL...|VIOLACION DE DOMI...|  4/4/2011|18:00:00 - 20:59:59|VIVIENDA|           NO APLICA|Mayor de edad|Mayor de edad|    COSTA RICA|  SAN JOSE|      PEREZ ZELEDON|         CAJON|\n",
      "|DELITOS CONTRA EL...|VIOLACION DE DOMI...| 24/2/2011|12:00:00 - 14:59:59|VIVIENDA|           NO APLICA|Mayor de edad|Mayor de edad|    COSTA RICA|PUNTARENAS|         PUNTARENAS|      BARRANCA|\n",
      "|DELITOS CONTRA EL...|VIOLACION DE DOMI...| 15/5/2011|00:00:00 - 02:59:59|VIVIENDA|           NO APLICA|Mayor de edad|Mayor de edad|    COSTA RICA|     LIMON|            GUACIMO|       GUACIMO|\n",
      "|DELITOS CONTRA EL...|VIOLACION DE DOMI...| 13/5/2011|21:00:00 - 23:59:59|VIVIENDA|           NO APLICA|Mayor de edad|Mayor de edad|    COSTA RICA|     LIMON|              LIMON|         LIMON|\n",
      "|DELITOS CONTRA EL...|VIOLACION DE DOMI...| 14/6/2011|00:00:00 - 02:59:59|VIVIENDA|           NO APLICA|Mayor de edad|Mayor de edad|    COSTA RICA|  SAN JOSE|           SAN JOSE|      CATEDRAL|\n",
      "|DELITOS CONTRA EL...|VIOLACION DE DOMI...| 15/7/2011|00:00:00 - 02:59:59|VIVIENDA|           NO APLICA|Mayor de edad|Mayor de edad|    COSTA RICA|  ALAJUELA|            GUATUSO|        KATIRA|\n",
      "|DELITOS CONTRA EL...|VIOLACION DE DOMI...|26/10/2011|00:00:00 - 02:59:59|VIVIENDA|           NO APLICA|Menor de edad|Menor de edad|ESTADOS UNIDOS|PUNTARENAS|           GARABITO|          JACO|\n",
      "|DELITOS CONTRA EL...|VIOLACION DE SECR...| 14/1/2011|00:00:00 - 02:59:59| PERSONA|OTRO O INDETERMINADO|Mayor de edad|Mayor de edad|    COSTA RICA|  SAN JOSE|VASQUEZ DE CORONADO|    SAN ISIDRO|\n",
      "+--------------------+--------------------+----------+-------------------+--------+--------------------+-------------+-------------+--------------+----------+-------------------+--------------+\n",
      "only showing top 20 rows\n",
      "\n"
     ]
    }
   ],
   "source": [
    "df_oij = remove_blank_spaces(df_oij, \"Distrito\")\n",
    "df_oij.show(20)"
   ]
  },
  {
   "cell_type": "code",
   "execution_count": 88,
   "metadata": {},
   "outputs": [
    {
     "name": "stdout",
     "output_type": "stream",
     "text": [
      "+----------------------------+--------------------------+--------------------------+------------------+-------------------------+-----------------------------------------------+---------------------------------+-------------------+------------------+-----------------+\n",
      "|Provincia, canton y distrito|Población de 15 años y más|Tasa neta de participación| Tasa_de_ocupacion|Tasa de desempleo abierto|Porcentaje de población económicamente inactiva|Relación de dependencia económica|    Sector Primario| Sector Secundario| Sector Terciario|\n",
      "+----------------------------+--------------------------+--------------------------+------------------+-------------------------+-----------------------------------------------+---------------------------------+-------------------+------------------+-----------------+\n",
      "|                    San José|                 1087315.0|         56.02369138658071|54.076325627807954|       3.4759683101481724|                               43.9763086134193|               1.3052331594309485| 5.4697438688390765| 17.29412565053233|77.23613048062859|\n",
      "|                    San José|                  225856.0|         56.70825658826863| 54.47718900538396|       3.9342905550480562|                              43.29174341173137|               1.2490337994519007|  0.653446033810143|18.906046814044213|80.44050715214564|\n",
      "|                      Carmen|                    2431.0|         56.31427396133278|54.792266556972436|       2.7027027027027026|                              43.68572603866722|               0.9737034331628927| 1.5765765765765765| 8.708708708708707|89.71471471471472|\n",
      "|                      Merced|                    9655.0|         59.24391506991197|  56.9963749352667|       3.7937062937062933|                             40.756084930088036|               1.1428321678321678| 0.8359076867163365| 18.26276576412866|  80.901326549155|\n",
      "|                    Hospital|                   15096.0|         56.42554319024907|53.928192898781134|        4.425921577835172|                              43.57445680975093|               1.2622681380605776| 0.4667731236948778|18.621790934774598|80.91143594153053|\n",
      "|                    Catedral|                   10742.0|         59.01135728914541| 57.02848631539751|       3.3601514434453383|                              40.98864271085459|                 1.04070042593469|0.45706823375775385|14.593535749265426|84.94939601697682|\n",
      "|                      Zapote|                   15545.0|         55.67706658089418|54.049533612093924|         2.92316580011554|                              44.32293341910582|               1.1581744656268054| 0.6069983337300643|13.746726969769101|85.64627469650084|\n",
      "|        San Francisco de ...|                   16895.0|        57.425273749630065|56.081680970701385|       2.3397237682951966|                             42.574726250369935|                1.082972582972583| 0.5171503957783642|13.013192612137203|86.46965699208444|\n",
      "|                       Uruca|                   22717.0|        59.030681868204425| 56.64920544085928|        4.034302759134974|                             40.969318131795575|               1.3659955257270693| 0.9946382780324812| 29.06208718626156|69.94327453570595|\n",
      "|                Mata Redonda|                    7077.0|         54.02006499929348| 52.16899816306344|       3.4266283023803292|                              45.97993500070651|               1.1744703112738686| 1.1375947995666305|11.728060671722645|87.13434452871073|\n",
      "|                       Pavas|                   54510.0|        56.319941295175205| 53.93505778756192|        4.234527687296417|                               43.6800587048248|               1.3252117263843648| 0.7346938775510203|23.761904761904763|75.50340136054422|\n",
      "|                     Hatillo|                   39555.0|         54.72633042598913|52.218430034129696|        4.582621148427034|                             45.273669574010874|                1.333394927703608| 0.4502541757443719|16.383442265795207|83.16630355846041|\n",
      "|               San Sebastián|                   31633.0|         57.52220782094648|55.148104827237376|         4.12728072103759|                              42.47779217905352|               1.2018575511101341|  0.527371739753511|16.050444253367726|83.42218400687877|\n",
      "|                      Escazú|                   44797.0|        60.709422505971375| 58.86554903230127|       3.0372113546109722|                              39.29057749402862|               1.0778423297543755| 2.5483503981797497| 16.71596511186955| 80.7356844899507|\n",
      "|                      Escazú|                    9580.0|         58.70563674321503| 56.69102296450939|       3.4317211948790893|                              41.29436325678497|               1.1308677098150783| 1.6203277481126863| 15.70613146750138|82.67354078438593|\n",
      "|                 San Antonio|                   17544.0|          60.5734154126767| 58.74943000455997|       3.0111978921614755|                               39.4265845873233|                 1.12232991436906| 3.7935383719802074| 18.57960609294654|77.62685553507325|\n",
      "|                  San Rafael|                   17673.0|        61.930628642562105|60.159565438804954|       2.8597533120146186|                             38.069371357437895|               1.0074006395614437| 1.8152746425884123|15.425131677953349|82.75959367945825|\n",
      "|                Desamparados|                  159292.0|         56.98905155312257| 54.70645104587801|        4.005331629561903|                             43.010948446877435|               1.2958062988136023|  2.214750467622184|19.570131852242863|78.21511768013495|\n",
      "|                Desamparados|                   26951.0|         59.26681755779006|56.409780713146084|        4.820634821260877|                              40.73318244220994|               1.1202028422963752| 0.5327895810037493|14.957574162994147|84.50963625600211|\n",
      "|                  San Miguel|                   24071.0|         57.13098749532632| 54.91255037181671|        3.883071553228621|                              42.86901250467368|               1.3127545084351366|  1.626569829021032|20.184596761991223|78.18883340898775|\n",
      "+----------------------------+--------------------------+--------------------------+------------------+-------------------------+-----------------------------------------------+---------------------------------+-------------------+------------------+-----------------+\n",
      "only showing top 20 rows\n",
      "\n"
     ]
    }
   ],
   "source": [
    "df_inec = remove_blank_spaces(df_inec, \"Provincia, canton y distrito\")\n",
    "df_inec.show(20)"
   ]
  },
  {
   "cell_type": "code",
   "execution_count": 89,
   "metadata": {},
   "outputs": [],
   "source": [
    "def set_lower_case(df, column):\n",
    "    df = df.withColumn(column, lower(df[column]))\n",
    "    return df\n"
   ]
  },
  {
   "cell_type": "code",
   "execution_count": 90,
   "metadata": {},
   "outputs": [
    {
     "name": "stdout",
     "output_type": "stream",
     "text": [
      "+--------------------+--------------------+----------+-------------------+--------+--------------------+-------------+-------------+--------------+----------+-------------------+--------------+\n",
      "|              Delito|           SubDelito|     Fecha|               Hora| Victima|          SubVictima|         Edad|       Genero|  Nacionalidad| Provincia|             Canton|      Distrito|\n",
      "+--------------------+--------------------+----------+-------------------+--------+--------------------+-------------+-------------+--------------+----------+-------------------+--------------+\n",
      "|DELITOS CONTRA EL...|VIOLACION DE DOMI...| 13/3/2011|18:00:00 - 20:59:59|VIVIENDA|           NO APLICA|Mayor de edad|Mayor de edad|    COSTA RICA|  ALAJUELA|          SAN RAMON|      san juan|\n",
      "|DELITOS CONTRA EL...|VIOLACION DE DOMI...|  7/3/2011|00:00:00 - 02:59:59|VIVIENDA|           NO APLICA|Mayor de edad|Mayor de edad|    COSTA RICA|PUNTARENAS|           GARABITO|          jaco|\n",
      "|DELITOS CONTRA EL...|VIOLACION DE DOMI...| 28/5/2011|00:00:00 - 02:59:59| PERSONA|       MENOR DE EDAD|Menor de edad|Menor de edad|    COSTA RICA|  SAN JOSE|      PEREZ ZELEDON| daniel flores|\n",
      "|DELITOS CONTRA EL...|VIOLACION DE DOMI...|  1/6/2011|21:00:00 - 23:59:59|VIVIENDA|           NO APLICA|Mayor de edad|Mayor de edad|    COSTA RICA|PUNTARENAS|            ESPARZA|espiritu santo|\n",
      "|DELITOS CONTRA EL...|VIOLACION DE DOMI...| 15/5/2011|21:00:00 - 23:59:59|VIVIENDA|           NO APLICA|Mayor de edad|Mayor de edad|    COSTA RICA|PUNTARENAS|             QUEPOS|        quepos|\n",
      "|DELITOS CONTRA EL...|VIOLACION DE DOMI...| 23/4/2011|06:00:00 - 08:59:59|VIVIENDA|           NO APLICA|Mayor de edad|Mayor de edad|       BELGICA|PUNTARENAS|         PUNTARENAS|        cobano|\n",
      "|DELITOS CONTRA EL...|VIOLACION DE DOMI...| 12/9/2011|12:00:00 - 14:59:59|VIVIENDA|           NO APLICA|Mayor de edad|Mayor de edad|     NICARAGUA|  SAN JOSE|         ALAJUELITA|    concepcion|\n",
      "|DELITOS CONTRA EL...|VIOLACION DE DOMI...| 22/8/2011|18:00:00 - 20:59:59|VIVIENDA|           NO APLICA|Mayor de edad|Mayor de edad|    COSTA RICA|  ALAJUELA|            OROTINA|       coyolar|\n",
      "|DELITOS CONTRA EL...|VIOLACION DE SECR...|  9/2/2011|00:00:00 - 02:59:59| PERSONA|OTRO O INDETERMINADO| Adulto Mayor| Adulto Mayor|    COSTA RICA|  SAN JOSE|           SAN JOSE|   desconocido|\n",
      "|DELITOS CONTRA EL...|VIOLACION DE SECR...| 23/2/2011|00:00:00 - 02:59:59| PERSONA|              PEATON|Mayor de edad|Mayor de edad|    COSTA RICA|   CARTAGO|            CARTAGO|    corralillo|\n",
      "|DELITOS CONTRA EL...|VIOLACION DE SECR...| 28/3/2011|00:00:00 - 02:59:59| PERSONA|OTRO O INDETERMINADO|Mayor de edad|Mayor de edad|    COSTA RICA|   HEREDIA|      SANTA BARBARA| santa barbara|\n",
      "|DELITOS CONTRA EL...|VIOLACION DE SECR...|  6/5/2011|00:00:00 - 02:59:59| PERSONA|       MENOR DE EDAD|Menor de edad|Menor de edad|    COSTA RICA|  SAN JOSE|           SAN JOSE|   desconocido|\n",
      "|DELITOS CONTRA EL...|VIOLACION DE DOMI...|  4/4/2011|18:00:00 - 20:59:59|VIVIENDA|           NO APLICA|Mayor de edad|Mayor de edad|    COSTA RICA|  SAN JOSE|      PEREZ ZELEDON|         cajon|\n",
      "|DELITOS CONTRA EL...|VIOLACION DE DOMI...| 24/2/2011|12:00:00 - 14:59:59|VIVIENDA|           NO APLICA|Mayor de edad|Mayor de edad|    COSTA RICA|PUNTARENAS|         PUNTARENAS|      barranca|\n",
      "|DELITOS CONTRA EL...|VIOLACION DE DOMI...| 15/5/2011|00:00:00 - 02:59:59|VIVIENDA|           NO APLICA|Mayor de edad|Mayor de edad|    COSTA RICA|     LIMON|            GUACIMO|       guacimo|\n",
      "|DELITOS CONTRA EL...|VIOLACION DE DOMI...| 13/5/2011|21:00:00 - 23:59:59|VIVIENDA|           NO APLICA|Mayor de edad|Mayor de edad|    COSTA RICA|     LIMON|              LIMON|         limon|\n",
      "|DELITOS CONTRA EL...|VIOLACION DE DOMI...| 14/6/2011|00:00:00 - 02:59:59|VIVIENDA|           NO APLICA|Mayor de edad|Mayor de edad|    COSTA RICA|  SAN JOSE|           SAN JOSE|      catedral|\n",
      "|DELITOS CONTRA EL...|VIOLACION DE DOMI...| 15/7/2011|00:00:00 - 02:59:59|VIVIENDA|           NO APLICA|Mayor de edad|Mayor de edad|    COSTA RICA|  ALAJUELA|            GUATUSO|        katira|\n",
      "|DELITOS CONTRA EL...|VIOLACION DE DOMI...|26/10/2011|00:00:00 - 02:59:59|VIVIENDA|           NO APLICA|Menor de edad|Menor de edad|ESTADOS UNIDOS|PUNTARENAS|           GARABITO|          jaco|\n",
      "|DELITOS CONTRA EL...|VIOLACION DE SECR...| 14/1/2011|00:00:00 - 02:59:59| PERSONA|OTRO O INDETERMINADO|Mayor de edad|Mayor de edad|    COSTA RICA|  SAN JOSE|VASQUEZ DE CORONADO|    san isidro|\n",
      "+--------------------+--------------------+----------+-------------------+--------+--------------------+-------------+-------------+--------------+----------+-------------------+--------------+\n",
      "only showing top 20 rows\n",
      "\n"
     ]
    }
   ],
   "source": [
    "df_oij = set_lower_case(df_oij, \"Distrito\")\n",
    "df_oij.show()"
   ]
  },
  {
   "cell_type": "code",
   "execution_count": 91,
   "metadata": {},
   "outputs": [
    {
     "name": "stdout",
     "output_type": "stream",
     "text": [
      "+----------------------------+--------------------------+--------------------------+------------------+-------------------------+-----------------------------------------------+---------------------------------+-------------------+------------------+-----------------+\n",
      "|Provincia, canton y distrito|Población de 15 años y más|Tasa neta de participación| Tasa_de_ocupacion|Tasa de desempleo abierto|Porcentaje de población económicamente inactiva|Relación de dependencia económica|    Sector Primario| Sector Secundario| Sector Terciario|\n",
      "+----------------------------+--------------------------+--------------------------+------------------+-------------------------+-----------------------------------------------+---------------------------------+-------------------+------------------+-----------------+\n",
      "|                    san josé|                 1087315.0|         56.02369138658071|54.076325627807954|       3.4759683101481724|                               43.9763086134193|               1.3052331594309485| 5.4697438688390765| 17.29412565053233|77.23613048062859|\n",
      "|                    san josé|                  225856.0|         56.70825658826863| 54.47718900538396|       3.9342905550480562|                              43.29174341173137|               1.2490337994519007|  0.653446033810143|18.906046814044213|80.44050715214564|\n",
      "|                      carmen|                    2431.0|         56.31427396133278|54.792266556972436|       2.7027027027027026|                              43.68572603866722|               0.9737034331628927| 1.5765765765765765| 8.708708708708707|89.71471471471472|\n",
      "|                      merced|                    9655.0|         59.24391506991197|  56.9963749352667|       3.7937062937062933|                             40.756084930088036|               1.1428321678321678| 0.8359076867163365| 18.26276576412866|  80.901326549155|\n",
      "|                    hospital|                   15096.0|         56.42554319024907|53.928192898781134|        4.425921577835172|                              43.57445680975093|               1.2622681380605776| 0.4667731236948778|18.621790934774598|80.91143594153053|\n",
      "|                    catedral|                   10742.0|         59.01135728914541| 57.02848631539751|       3.3601514434453383|                              40.98864271085459|                 1.04070042593469|0.45706823375775385|14.593535749265426|84.94939601697682|\n",
      "|                      zapote|                   15545.0|         55.67706658089418|54.049533612093924|         2.92316580011554|                              44.32293341910582|               1.1581744656268054| 0.6069983337300643|13.746726969769101|85.64627469650084|\n",
      "|        san francisco de ...|                   16895.0|        57.425273749630065|56.081680970701385|       2.3397237682951966|                             42.574726250369935|                1.082972582972583| 0.5171503957783642|13.013192612137203|86.46965699208444|\n",
      "|                       uruca|                   22717.0|        59.030681868204425| 56.64920544085928|        4.034302759134974|                             40.969318131795575|               1.3659955257270693| 0.9946382780324812| 29.06208718626156|69.94327453570595|\n",
      "|                mata redonda|                    7077.0|         54.02006499929348| 52.16899816306344|       3.4266283023803292|                              45.97993500070651|               1.1744703112738686| 1.1375947995666305|11.728060671722645|87.13434452871073|\n",
      "|                       pavas|                   54510.0|        56.319941295175205| 53.93505778756192|        4.234527687296417|                               43.6800587048248|               1.3252117263843648| 0.7346938775510203|23.761904761904763|75.50340136054422|\n",
      "|                     hatillo|                   39555.0|         54.72633042598913|52.218430034129696|        4.582621148427034|                             45.273669574010874|                1.333394927703608| 0.4502541757443719|16.383442265795207|83.16630355846041|\n",
      "|               san sebastián|                   31633.0|         57.52220782094648|55.148104827237376|         4.12728072103759|                              42.47779217905352|               1.2018575511101341|  0.527371739753511|16.050444253367726|83.42218400687877|\n",
      "|                      escazú|                   44797.0|        60.709422505971375| 58.86554903230127|       3.0372113546109722|                              39.29057749402862|               1.0778423297543755| 2.5483503981797497| 16.71596511186955| 80.7356844899507|\n",
      "|                      escazú|                    9580.0|         58.70563674321503| 56.69102296450939|       3.4317211948790893|                              41.29436325678497|               1.1308677098150783| 1.6203277481126863| 15.70613146750138|82.67354078438593|\n",
      "|                 san antonio|                   17544.0|          60.5734154126767| 58.74943000455997|       3.0111978921614755|                               39.4265845873233|                 1.12232991436906| 3.7935383719802074| 18.57960609294654|77.62685553507325|\n",
      "|                  san rafael|                   17673.0|        61.930628642562105|60.159565438804954|       2.8597533120146186|                             38.069371357437895|               1.0074006395614437| 1.8152746425884123|15.425131677953349|82.75959367945825|\n",
      "|                desamparados|                  159292.0|         56.98905155312257| 54.70645104587801|        4.005331629561903|                             43.010948446877435|               1.2958062988136023|  2.214750467622184|19.570131852242863|78.21511768013495|\n",
      "|                desamparados|                   26951.0|         59.26681755779006|56.409780713146084|        4.820634821260877|                              40.73318244220994|               1.1202028422963752| 0.5327895810037493|14.957574162994147|84.50963625600211|\n",
      "|                  san miguel|                   24071.0|         57.13098749532632| 54.91255037181671|        3.883071553228621|                              42.86901250467368|               1.3127545084351366|  1.626569829021032|20.184596761991223|78.18883340898775|\n",
      "+----------------------------+--------------------------+--------------------------+------------------+-------------------------+-----------------------------------------------+---------------------------------+-------------------+------------------+-----------------+\n",
      "only showing top 20 rows\n",
      "\n"
     ]
    }
   ],
   "source": [
    "df_inec = set_lower_case(df_inec, \"Provincia, canton y distrito\")\n",
    "df_inec.show()"
   ]
  },
  {
   "cell_type": "code",
   "execution_count": 92,
   "metadata": {},
   "outputs": [],
   "source": [
    "def non_matching_districts(df_oij, df_inec):\n",
    "    oij_districts = df_oij.select(\"Distrito\").distinct()\n",
    "    inec_districts = df_inec.select(\"Provincia, canton y distrito\").distinct()\n",
    "\n",
    "    unmatched_district = (oij_districts \\\n",
    "                          .join(inec_districts, oij_districts[\"Distrito\"] == inec_districts[\"Provincia, canton y distrito\"], \"left_anti\")\\\n",
    "                            .select(\"Distrito\").distinct().collect())\n",
    "    \n",
    "    list_unmatched_district = [district[\"Distrito\"] for district in unmatched_district]\n",
    "\n",
    "    return list_unmatched_district\n"
   ]
  },
  {
   "cell_type": "code",
   "execution_count": 93,
   "metadata": {},
   "outputs": [
    {
     "name": "stdout",
     "output_type": "stream",
     "text": [
      "['rio cuarto', 'san jeronimo', 'isla del coco', 'libano', 'para', 'colon', 'guapiles', 'guacimo', 'puraba', 'cajon', 'belen', 'belen de nosarita', 'granja', 'santa lucia', 'desconocido', 'santo tomas', 'jardin', 'agua buena', 'tarcoles', 'alegria', 'santa maria', 'patarra', 'san sebastian', 'cirri sur', 'cortes', 'san jose de la monta?a', 'palmera', 'pavon', 'canas dulces', 'sanchez', 'llanos de santa lucia', 'juan vinas', 'rio blanco', 'general', 'baru', 'volcan', 'rio azul', 'horquetas', 'bahia ballena', 'rio jimenez', 'ceiba', 'sarchi norte', 'dulce nombre de jesus', 'guacima', 'la legua', 'san jose', 'san ramon', 'aserri', 'dos rios', 'mastate', 'guaycara', 'fortuna', 'sarchi sur', 'cobano', 'san cristobal', 'paramo', 'jesus maria', 'angeles', 'curubande', 'jaco', 'tapezco', 'tres rios', 'jesus', 'san nicolas', 'batan', 'paraiso', 'tilaran', 'cachi', 'espiritu santo', 'merecedes', 'canas', 'mansion', 'rio segundo', 'limon', 'samara', 'tigra', 'mata platano', 'cano negro', 'cairo', 'jimenez', 'asuncion', 'diria', 'leon xiii', 'san jose (pizote)', 'turrucares', 'macacoma', 'concepcion', 'el chirripo', 'penas blancas', 'monterry', 'bolson', 'escazu', 'los angeles', 'rio nuevo', 'ipis', 'duacari', 'san joaquin', 'san francisco de dos rios', 'santa barbara', 'changuena', 'bolivar', 'san andres', 'union', 'rodriguez']\n"
     ]
    }
   ],
   "source": [
    "list_unmatched_districts = non_matching_districts(df_oij, df_inec)\n",
    "print(list_unmatched_districts)"
   ]
  },
  {
   "cell_type": "code",
   "execution_count": 94,
   "metadata": {},
   "outputs": [
    {
     "name": "stdout",
     "output_type": "stream",
     "text": [
      "16089\n"
     ]
    }
   ],
   "source": [
    "def count_mismatched(df_oij, df_inec):\n",
    "    oij_districts = df_oij.select(\"Distrito\")\n",
    "    inec_districts = df_inec.select(\"Provincia, canton y distrito\")\n",
    "    \n",
    "    count = oij_districts.join(inec_districts, oij_districts[\"Distrito\"] == inec_districts[\"Provincia, canton y distrito\"], \"left_anti\")\\\n",
    "                            .select(\"Distrito\").count()\n",
    "    return count\n",
    "\n",
    "print(count_mismatched(df_oij, df_inec))"
   ]
  },
  {
   "cell_type": "code",
   "execution_count": 95,
   "metadata": {},
   "outputs": [],
   "source": [
    "def remove_special_characters(df, column):\n",
    "\n",
    "    replacements = {\n",
    "        'ñ': 'n',\n",
    "        '\\\\?': 'n',\n",
    "        'á': 'a',\n",
    "        'é': 'e',\n",
    "        'í': 'i',\n",
    "        'ó': 'o',\n",
    "        'ú': 'u'\n",
    "    }\n",
    "    for key, value in replacements.items():\n",
    "        df = df.withColumn(column, regexp_replace(df[column], key, value))\n",
    "    return df\n",
    "\n",
    "df_inec = remove_special_characters(df_inec, \"Provincia, canton y distrito\")\n",
    "df_oij = remove_special_characters(df_oij, \"Distrito\")\n",
    "\n"
   ]
  },
  {
   "cell_type": "code",
   "execution_count": 96,
   "metadata": {},
   "outputs": [
    {
     "name": "stdout",
     "output_type": "stream",
     "text": [
      "['isla del coco', 'granja', 'desconocido', 'agua buena', 'cortes', 'palmera', 'general', 'horquetas', 'ceiba', 'la legua', 'mastate', 'fortuna', 'tapezco', 'merecedes', 'tigra', 'mata platano', 'cairo', 'asuncion', 'san jose (pizote)', 'macacoma', 'el chirripo', 'monterry', 'los angeles', 'union']\n",
      "2291\n"
     ]
    }
   ],
   "source": [
    "list_unmatched_districts = non_matching_districts(df_oij, df_inec)\n",
    "print(list_unmatched_districts)\n",
    "print(count_mismatched(df_oij, df_inec))"
   ]
  },
  {
   "cell_type": "markdown",
   "metadata": {},
   "source": [
    "## Guardar Datos de Inec y OIJ en una BD en Postgres"
   ]
  },
  {
   "cell_type": "markdown",
   "metadata": {},
   "source": [
    "### Configuración\n",
    "Antes de proceder a realizar el guardado de los datos del INEC y del OIJ, se deben configurar la conexión a Postgresql"
   ]
  },
  {
   "cell_type": "markdown",
   "metadata": {},
   "source": [
    "- Definición de variables:"
   ]
  },
  {
   "cell_type": "code",
   "execution_count": 97,
   "metadata": {},
   "outputs": [],
   "source": [
    "POSTGRESQL_URL = \"jdbc:postgresql://localhost/\"\n",
    "POSTGRESQL_USER = \"postgres\"\n",
    "POSTGRESQL_PASSWORD = \"admin\""
   ]
  },
  {
   "cell_type": "markdown",
   "metadata": {},
   "source": [
    "- Función para realizar el guardado:"
   ]
  },
  {
   "cell_type": "code",
   "execution_count": 98,
   "metadata": {},
   "outputs": [],
   "source": [
    "def save_spark_df_to_db(df, table_name):\n",
    "    df \\\n",
    "        .write \\\n",
    "        .format(\"jdbc\") \\\n",
    "        .mode('overwrite') \\\n",
    "        .option(\"url\", POSTGRESQL_URL) \\\n",
    "        .option(\"user\", POSTGRESQL_USER) \\\n",
    "        .option(\"password\", POSTGRESQL_PASSWORD) \\\n",
    "        .option(\"dbtable\", table_name) \\\n",
    "        .save()"
   ]
  }
 ],
 "metadata": {
  "kernelspec": {
   "display_name": "Python 3 (ipykernel)",
   "language": "python",
   "name": "python3"
  },
  "language_info": {
   "codemirror_mode": {
    "name": "ipython",
    "version": 3
   },
   "file_extension": ".py",
   "mimetype": "text/x-python",
   "name": "python",
   "nbconvert_exporter": "python",
   "pygments_lexer": "ipython3",
   "version": "3.11.5"
  }
 },
 "nbformat": 4,
 "nbformat_minor": 5
}
